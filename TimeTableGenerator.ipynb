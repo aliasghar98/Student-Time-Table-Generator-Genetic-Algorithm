{
  "nbformat": 4,
  "nbformat_minor": 2,
  "metadata": {
    "colab": {
      "name": "Proj01- <18I-0475> <18I-0800>",
      "provenance": [],
      "collapsed_sections": []
    },
    "kernelspec": {
      "display_name": "Python 3",
      "name": "python3"
    },
    "language_info": {
      "name": "python"
    }
  },
  "cells": [
    {
      "cell_type": "markdown",
      "source": [
        "# AI - Project 1\r\n",
        "\r\n",
        "**PLEASE READ**\r\n",
        "\r\n",
        "We are using the standard dataset provided in Google Classroom by the instructor."
      ],
      "metadata": {
        "id": "HYCSn3Nbs0Bb"
      }
    },
    {
      "cell_type": "code",
      "execution_count": null,
      "source": [
        "import pandas\r\n",
        "import numpy\r\n",
        "import random\r\n",
        "import copy\r\n",
        "import csv\r\n",
        "import collections\r\n",
        "import time\r\n",
        "import pandas as pd"
      ],
      "outputs": [],
      "metadata": {
        "id": "IvwM7TMU2F7R"
      }
    },
    {
      "cell_type": "markdown",
      "source": [
        "# Defining Classes."
      ],
      "metadata": {
        "id": "DbtZI7rYsxLi"
      }
    },
    {
      "cell_type": "code",
      "execution_count": null,
      "source": [
        "class Course():\r\n",
        "  def __init__(self):\r\n",
        "    self.course_id = 0\r\n",
        "    self.course_code = \"\"\r\n",
        "    self.course_name = \"\"\r\n",
        "\r\n",
        "class Teacher():\r\n",
        "  def __init__(self):\r\n",
        "    self.teacher_id = 0\r\n",
        "    self.teacher_name = \"\"\r\n",
        "                                         \r\n",
        "class Timeslot():                                      \r\n",
        "  def __init__(self,day,time):\r\n",
        "    # self.timeslot_id = 0 \r\n",
        "    self.day = day\r\n",
        "    self.time = time\r\n",
        "  def __hash__(self):\r\n",
        "    return hash(self.day) ^ hash(self.time)\r\n",
        "  def __eq__(self,obj):\r\n",
        "    return self.day == obj.day and self.time == obj.time\r\n",
        "    \r\n",
        "#Chromosome Class\r\n",
        "class Timetable():\r\n",
        "  def __init__(self,chromosome):\r\n",
        "    self.chromosome = chromosome\r\n",
        "  \r\n",
        "class Student():\r\n",
        "  def __init__(self):\r\n",
        "    self.student_id = 0\r\n",
        "    self.student_name = \"\"\r\n",
        "\r\n",
        "#Defining timeslots, days of the week and classrooms.\r\n",
        "slots = [\"9:00-12:00\",\"2:00-5:00\"]\r\n",
        "week = [\"Monday-1\",\"Tuesday-1\",\"Wednesday-1\",\"Thursday-1\",\"Friday-1\",\r\n",
        "        \"Monday-2\",\"Tuesday-2\",\"Wednesday-2\",\"Thursday-2\",\"Friday-2\"\r\n",
        "       ] \r\n",
        "        # \"Monday-3\",\"Tuesday-3\",\"Wednesday-3\",\"Thursday-3\",\"Friday-3\"]\r\n",
        "classrooms = [\"C-301\",\"C-302\",\"C-303\",\"C-304\",\"C-305\",\"C-306\",\"C-307\",\"C-308\",\"C-309\",\"C-310\"]"
      ],
      "outputs": [],
      "metadata": {
        "id": "crrQm4jQ-Kdt"
      }
    },
    {
      "cell_type": "markdown",
      "source": [
        "#Reading datasets."
      ],
      "metadata": {
        "id": "xXnRE_Tvzanp"
      }
    },
    {
      "cell_type": "code",
      "execution_count": null,
      "source": [
        "#Reading list of courses.\r\n",
        "courses = []\r\n",
        "\r\n",
        "with open(\"courses.csv\", mode = 'r') as csv_file:\r\n",
        "  csv_reader = csv.reader(csv_file, delimiter = ',')\r\n",
        "  line_count = 0\r\n",
        "  for row in csv_reader:\r\n",
        "    if any(obj.course_code == row[0] for obj in courses):\r\n",
        "      continue\r\n",
        "    course = Course()\r\n",
        "    course.course_code = row[0]\r\n",
        "    course.course_name = row[1]\r\n",
        "    course.course_id = line_count\r\n",
        "    line_count += 1\r\n",
        "    courses.append(course)\r\n",
        "\r\n",
        "for n in courses:\r\n",
        "  print(n.course_id, n.course_name, n.course_code)"
      ],
      "outputs": [],
      "metadata": {
        "id": "rbzUYAz_ADkn",
        "colab": {
          "base_uri": "https://localhost:8080/"
        },
        "outputId": "ffb8ae70-bea7-4b06-eb6f-52e66556cc1c"
      }
    },
    {
      "cell_type": "code",
      "execution_count": null,
      "source": [
        "#Reading list of teachers.\r\n",
        "teachers = []\r\n",
        "\r\n",
        "with open(\"teachers.csv\", mode = \"r\") as teacher_file:\r\n",
        "  line_count = 0\r\n",
        "  csv_reader = csv.reader(teacher_file, delimiter = '\\n')\r\n",
        "  for row in csv_reader:\r\n",
        "    if any(obj.teacher_name == row for obj in teachers):\r\n",
        "      continue\r\n",
        "    temp = \"\"\r\n",
        "    for i in row:\r\n",
        "      temp += i\r\n",
        "    if temp is not \"\":\r\n",
        "      teacher = Teacher()\r\n",
        "      teacher.teacher_id = line_count\r\n",
        "      teacher.teacher_name = temp\r\n",
        "      teachers.append(teacher)\r\n",
        "      line_count += 1\r\n",
        "\r\n",
        "for n in teachers:\r\n",
        "  print(n.teacher_id, n.teacher_name)"
      ],
      "outputs": [],
      "metadata": {
        "id": "3nEzIeKIQw_g",
        "colab": {
          "base_uri": "https://localhost:8080/"
        },
        "outputId": "70392658-ca88-49bf-d9b6-207d9bb97820"
      }
    },
    {
      "cell_type": "code",
      "execution_count": null,
      "source": [
        "#Reading list of students.\r\n",
        "students = []\r\n",
        "\r\n",
        "with open(\"studentNames.csv\", mode = 'r') as csv_file:\r\n",
        "  csv_reader = csv.reader(csv_file, delimiter = ',')\r\n",
        "  line_count = 0\r\n",
        "  for row in csv_reader:\r\n",
        "    if any(obj.student_name == row[0] for obj in students):\r\n",
        "      continue\r\n",
        "    student = Student()\r\n",
        "    student.student_name = row[0]\r\n",
        "    student.student_id = line_count\r\n",
        "    line_count += 1\r\n",
        "    students.append(student)\r\n",
        "\r\n",
        "for n in students:\r\n",
        "  print(n.student_id, n.student_name)"
      ],
      "outputs": [],
      "metadata": {
        "id": "59n1JAzLVzy5",
        "colab": {
          "base_uri": "https://localhost:8080/"
        },
        "outputId": "08da75bc-f794-4b4f-e087-1152360fb4bf"
      }
    },
    {
      "cell_type": "code",
      "execution_count": null,
      "source": [
        "#Saving list of courses registered against student.\r\n",
        "student_registrations = dict()\r\n",
        "\r\n",
        "with open(\"studentCourse.csv\", mode = 'r') as csv_file:\r\n",
        "  csv_reader = csv.reader(csv_file, delimiter = \",\")\r\n",
        "  line_count = 0\r\n",
        "  for row in csv_reader:\r\n",
        "    if line_count == 0:\r\n",
        "      line_count += 1\r\n",
        "      continue\r\n",
        "    else:\r\n",
        "      if row[1] not in student_registrations: # Name of student.\r\n",
        "        student_registrations[row[1]] = []\r\n",
        "        student_registrations[row[1]].append(row[2])\r\n",
        "      else:\r\n",
        "        student_registrations[row[1]].append(row[2])\r\n",
        "\r\n",
        "for key,value in student_registrations.items():\r\n",
        "  print(key,value)"
      ],
      "outputs": [],
      "metadata": {
        "id": "jISDOL0yapb3",
        "colab": {
          "base_uri": "https://localhost:8080/"
        },
        "outputId": "89794d22-7baa-4493-9a45-92bb1909c5c1"
      }
    },
    {
      "cell_type": "markdown",
      "source": [
        "Generating population randomly."
      ],
      "metadata": {
        "id": "4UKQZ-3KzYy0"
      }
    },
    {
      "cell_type": "code",
      "execution_count": null,
      "source": [
        "#Generating a population of size 'popSize' randomly.\r\n",
        "def generatePopulation(crs, tch, popSize):  \r\n",
        "    population = []\r\n",
        "    num_exams = len(crs)\r\n",
        "    for j in range(popSize):\r\n",
        "      courses = []\r\n",
        "      teachers = []\r\n",
        "      timeslots = []\r\n",
        "      courses = copy.deepcopy(crs)\r\n",
        "      teachers = copy.deepcopy(tch)\r\n",
        "      timeslots = slots\r\n",
        "      days = week\r\n",
        "      chromosome = []\r\n",
        "      for i in range(num_exams):\r\n",
        "        course = random.choice(courses)\r\n",
        "        teacher = random.choice(teachers)\r\n",
        "        day = random.choice(days)\r\n",
        "        slot = random.choice(slots)\r\n",
        "        classroom = random.choice(classrooms)\r\n",
        "        chromosome.append(course.course_code)\r\n",
        "        chromosome.append(teacher.teacher_name)\r\n",
        "        chromosome.append(day)\r\n",
        "        chromosome.append(slot)\r\n",
        "        chromosome.append(classroom)\r\n",
        "        courses.remove(course)\r\n",
        "        teachers.remove(teacher)\r\n",
        "      population.append(chromosome)  \r\n",
        "    return population"
      ],
      "outputs": [],
      "metadata": {
        "id": "-w1cxUYWa6yE"
      }
    },
    {
      "cell_type": "markdown",
      "source": [
        "# Hard Constraints"
      ],
      "metadata": {
        "id": "FFpfnnYj_2gX"
      }
    },
    {
      "cell_type": "markdown",
      "source": [
        "Finding the papers which have been set at a specific time and date."
      ],
      "metadata": {
        "id": "OZQEUByqzk4o"
      }
    },
    {
      "cell_type": "code",
      "execution_count": null,
      "source": [
        "def getPaperClashes(timetable):\r\n",
        "    index = 0\r\n",
        "    paper_clashes = dict()\r\n",
        "    for data in timetable:\r\n",
        "      if index == 0: #Course Code.\r\n",
        "        course_code = data\r\n",
        "      elif index == 1: #Teacher Name.\r\n",
        "        teacher_name = data\r\n",
        "      elif index == 2: #Day.\r\n",
        "        day = data\r\n",
        "      elif index == 3: #Time slot.\r\n",
        "        time_slot = data\r\n",
        "      elif index == 4: #Room.\r\n",
        "        room = data\r\n",
        "        # print(\"Current Line : \", course_code, teacher_name, day, time_slot, room)\r\n",
        "        timeslot = Timeslot(day,time_slot)\r\n",
        "        if timeslot not in paper_clashes.keys():\r\n",
        "          paper_clashes[timeslot] = []\r\n",
        "          paper_clashes[timeslot].append(course_code)\r\n",
        "          # print(\"Adding new entry :\" , (time_slot,day), course_code)\r\n",
        "        else:\r\n",
        "          paper_clashes[timeslot].append(course_code)\r\n",
        "          # print(\"Adding to existing.\", (time_slot,day), course_code)\r\n",
        "        index = 0\r\n",
        "        continue\r\n",
        "      index = index + 1\r\n",
        "    return paper_clashes\r\n",
        "\r\n",
        "#Testing function.    \r\n",
        "testpopulation = generatePopulation(courses,teachers,20)\r\n",
        "test_paper_clashes = getPaperClashes(testpopulation[0])\r\n",
        "for key,value in test_paper_clashes.items():\r\n",
        "  print(key.day,key.time,value)"
      ],
      "outputs": [],
      "metadata": {
        "colab": {
          "base_uri": "https://localhost:8080/"
        },
        "id": "JdpIUX15XH7Q",
        "outputId": "020164e1-0402-4cdd-b6a1-66ad59899d81"
      }
    },
    {
      "cell_type": "markdown",
      "source": [
        "Calculating the number of students from a timetable which have clashing papers and returning the count."
      ],
      "metadata": {
        "id": "sz5PKdVYzv_3"
      }
    },
    {
      "cell_type": "code",
      "execution_count": null,
      "source": [
        "#Utility function to find intersection of two lists.\r\n",
        "def intersection(list1, list2):\r\n",
        "    intersecting_values = [value for value in list1 if value in list2]\r\n",
        "    return intersecting_values\r\n",
        "\r\n",
        "def calculateClashes(paper_clashes,student_registrations):\r\n",
        "  numClashes = 0\r\n",
        "  students_list = dict()\r\n",
        "  for key,value in paper_clashes.items():\r\n",
        "    if len(value) >= 2: # Atleast two subjects in the same slot.\r\n",
        "      for course in value:\r\n",
        "        students_list[course] = []\r\n",
        "        for student_name,subjects in student_registrations.items():\r\n",
        "          if course in subjects:\r\n",
        "            students_list[course].append(student_name)\r\n",
        "\r\n",
        "  for key,value in paper_clashes.items():\r\n",
        "    if len(value) >= 2:\r\n",
        "      for i in range(len(value)):\r\n",
        "        list1 = students_list[value[i]]\r\n",
        "        for j in range(i+1,len(value)):\r\n",
        "          list2 = students_list[value[j]]\r\n",
        "          if len(intersection(list1,list2)) > 0:\r\n",
        "            # print(\"Clashes between \", value[i], \"and \", value[j] ,\" are : \", len(intersection(list1,list2)) )\r\n",
        "            numClashes = numClashes + len(intersection(list1,list2))\r\n",
        "            # print(\"Clashes of \", value[i], \" and \" , value[j], \" : \", intersection(list1,list2))\r\n",
        "  # print(\"Total clashes found of : \", numClashes , \" students.\")\r\n",
        "  return numClashes\r\n",
        "#Testing function.\r\n",
        "calculateClashes(test_paper_clashes,student_registrations)"
      ],
      "outputs": [],
      "metadata": {
        "colab": {
          "base_uri": "https://localhost:8080/"
        },
        "id": "2rIrGAExbW18",
        "outputId": "260d5cf7-02ca-46e9-96b2-8883b0f35a75"
      }
    },
    {
      "cell_type": "markdown",
      "source": [
        "Finding those teachers which have been assigned to specific day and time."
      ],
      "metadata": {
        "id": "6N3l8kuq0kWt"
      }
    },
    {
      "cell_type": "code",
      "execution_count": null,
      "source": [
        "#Find teachers who are invigilating multiple exams at the same day and time.\r\n",
        "def getTeacherClashes(timetable):\r\n",
        "  index = 0\r\n",
        "  teacher_clashes = dict()\r\n",
        "  for data in timetable:\r\n",
        "    if index == 0: #Course Code.\r\n",
        "      course_code = data\r\n",
        "    elif index == 1: #Teacher Name.\r\n",
        "      teacher_name = data\r\n",
        "    elif index == 2: #Day.\r\n",
        "      day = data\r\n",
        "    elif index == 3: #Time slot.\r\n",
        "      time_slot = data\r\n",
        "    elif index == 4: #Room.\r\n",
        "      room = data\r\n",
        "      # print(\"Current Line : \", course_code, teacher_name, day, time_slot, room)\r\n",
        "      timeslot = Timeslot(day,time_slot)\r\n",
        "      if timeslot not in teacher_clashes.keys():\r\n",
        "        teacher_clashes[timeslot] = []\r\n",
        "        teacher_clashes[timeslot].append(teacher_name)\r\n",
        "        # print(\"Adding new entry :\" , (time_slot,day), teacher_name)\r\n",
        "      else:\r\n",
        "        teacher_clashes[timeslot].append(teacher_name)\r\n",
        "        # print(\"Adding to existing.\", (time_slot,day), teacher_name)\r\n",
        "      index = 0\r\n",
        "      continue\r\n",
        "    index = index + 1\r\n",
        "  return teacher_clashes\r\n",
        "\r\n",
        "#Testing function.\r\n",
        "test_teacher_clashes = getTeacherClashes(testpopulation[0])\r\n",
        "for key,value in test_teacher_clashes.items():\r\n",
        "  print(key.day,key.time,value)"
      ],
      "outputs": [],
      "metadata": {
        "id": "h3CAQhcSEz87",
        "colab": {
          "base_uri": "https://localhost:8080/"
        },
        "outputId": "606d48fe-8808-4db2-b2b0-a8126ad205f2"
      }
    },
    {
      "cell_type": "markdown",
      "source": [
        "Returns number of teachers which are invigilating more than one course at the same time."
      ],
      "metadata": {
        "id": "p0iv-Fh41lWj"
      }
    },
    {
      "cell_type": "code",
      "execution_count": null,
      "source": [
        "def calculateTeacherClashes(teacher_clashes):\r\n",
        "  numClashes = 0\r\n",
        "  for key,value in teacher_clashes.items():\r\n",
        "    if len(value) >= 2:\r\n",
        "      numClashes = numClashes + len([item for item, count in collections.Counter(value).items() if count > 1])\r\n",
        "  # print(\"Total clashes found of : \", numClashes , \" teachers.\")\r\n",
        "  return numClashes\r\n",
        "#Testing Function.\r\n",
        "calculateTeacherClashes(test_teacher_clashes)"
      ],
      "outputs": [],
      "metadata": {
        "id": "1oKVKUJNH8m2",
        "colab": {
          "base_uri": "https://localhost:8080/"
        },
        "outputId": "fc8408b7-548b-4bf9-d4b9-4bbc481110b1"
      }
    },
    {
      "cell_type": "markdown",
      "source": [
        "Finds the number of teachers who are invigilating back to back (consecutive) exams on the same day."
      ],
      "metadata": {
        "id": "TtvG3PXy2HZ7"
      }
    },
    {
      "cell_type": "code",
      "execution_count": null,
      "source": [
        "#Find teachers who are invigilating consecutive exams.\r\n",
        "def getConsecutiveTeacherClashes(teacher_clashes):\r\n",
        "  numClashes = 0\r\n",
        "  for day1 in teacher_clashes.keys():\r\n",
        "    checkDays = False\r\n",
        "    for day2 in teacher_clashes.keys():\r\n",
        "      if day1 == day2:\r\n",
        "        checkDays = True\r\n",
        "        continue\r\n",
        "      if checkDays == True:\r\n",
        "        #Check if day same and timeslot different and teacher repeating.\r\n",
        "        if day1.day == day2.day:\r\n",
        "          # print(\"Checking days : \", day1.day, day1.time, \" and \", day2.day, day2.time)\r\n",
        "          list1 = teacher_clashes[day1]\r\n",
        "          list2 = teacher_clashes[day2]\r\n",
        "          if len(intersection(list1,list2)) > 0:\r\n",
        "            # print(\"Teacher clashes found for day: \", day1.day, \" Timings : \", day1.time, \" \" ,day2.time)\r\n",
        "            # print(list1)\r\n",
        "            # print(list2)\r\n",
        "            numClashes = numClashes + len(intersection(list1,list2))\r\n",
        "          # else:\r\n",
        "          #   print(\"No teacher clashes found!\")\r\n",
        "  return numClashes\r\n",
        "                      \r\n",
        "\r\n",
        "getConsecutiveTeacherClashes(test_teacher_clashes)"
      ],
      "outputs": [],
      "metadata": {
        "id": "huoiVpWoJSiM",
        "colab": {
          "base_uri": "https://localhost:8080/"
        },
        "outputId": "eaf4607d-e643-41fd-ed7c-44e4e1463e03"
      }
    },
    {
      "cell_type": "markdown",
      "source": [
        "Find the classrooms which have been assigned to courses at a specific day and time."
      ],
      "metadata": {
        "id": "3ULqJSH232WG"
      }
    },
    {
      "cell_type": "code",
      "execution_count": null,
      "source": [
        "def getClassroomClashes(timetable):\r\n",
        "  index = 0\r\n",
        "  classroom_clashes = dict()\r\n",
        "  for data in timetable:\r\n",
        "    if index == 0: #Course Code.\r\n",
        "      course_code = data\r\n",
        "    elif index == 1: #Teacher Name.\r\n",
        "      teacher_name = data\r\n",
        "    elif index == 2: #Day.\r\n",
        "      day = data\r\n",
        "    elif index == 3: #Time slot.\r\n",
        "      time_slot = data\r\n",
        "    elif index == 4: #Room.\r\n",
        "      room = data\r\n",
        "      # print(\"Current Line : \", course_code, teacher_name, day, time_slot, room)\r\n",
        "      timeslot = Timeslot(day,time_slot)\r\n",
        "      if timeslot not in classroom_clashes.keys():\r\n",
        "        classroom_clashes[timeslot] = []\r\n",
        "        classroom_clashes[timeslot].append(room)\r\n",
        "        # print(\"Adding new entry :\" , (time_slot,day), teacher_name)\r\n",
        "      else:\r\n",
        "        classroom_clashes[timeslot].append(room)\r\n",
        "        # print(\"Adding to existing.\", (time_slot,day), teacher_name)\r\n",
        "      index = 0\r\n",
        "      continue\r\n",
        "    index = index + 1\r\n",
        "  return classroom_clashes\r\n",
        "#Testing function.\r\n",
        "test_classroom_clashes = getClassroomClashes(testpopulation[0])\r\n",
        "for key,value in test_classroom_clashes.items():\r\n",
        "  print(key.day,key.time,value)"
      ],
      "outputs": [],
      "metadata": {
        "id": "imVlMhg0uA2g",
        "colab": {
          "base_uri": "https://localhost:8080/"
        },
        "outputId": "4f7d8164-df56-496d-d31d-efc8aa45a3a6"
      }
    },
    {
      "cell_type": "markdown",
      "source": [
        "Find the number of classrooms which have been assigned to multiple courses at the same day and time, i.e. one classroom has been assigned to two or more courses at the same day and time."
      ],
      "metadata": {
        "id": "e9U_qezD4BTq"
      }
    },
    {
      "cell_type": "code",
      "execution_count": null,
      "source": [
        "def calculateClassroomClashes(classroom_clashes):\r\n",
        "  numClashes = 0\r\n",
        "  for key,value in classroom_clashes.items():\r\n",
        "    if len(value) >= 2:\r\n",
        "      numClashes = numClashes + len([item for item, count in collections.Counter(value).items() if count > 1])\r\n",
        "  # print(\"Total clashes found of : \", numClashes , \" classrooms.\")\r\n",
        "  return numClashes\r\n",
        "#Testing function.\r\n",
        "calculateClassroomClashes(test_classroom_clashes)"
      ],
      "outputs": [],
      "metadata": {
        "id": "vjJ2fZxousxP",
        "colab": {
          "base_uri": "https://localhost:8080/"
        },
        "outputId": "0295269b-9bcd-4b77-8f8c-40e53e9cccaa"
      }
    },
    {
      "cell_type": "markdown",
      "source": [
        "# Soft Constraints"
      ],
      "metadata": {
        "id": "jjVHs1Xk_e72"
      }
    },
    {
      "cell_type": "markdown",
      "source": [
        "Find the number of students appearing in consecutive papers on the same day."
      ],
      "metadata": {
        "id": "m8hMpg-F4rJk"
      }
    },
    {
      "cell_type": "code",
      "execution_count": null,
      "source": [
        "def calculateConsecutivePaperClashes(paper_clashes,student_registrations):\r\n",
        "  numClashes = 0\r\n",
        "  students_list = dict()\r\n",
        "  daysChecked = []\r\n",
        "  for key,value in paper_clashes.items():\r\n",
        "    for course in value:\r\n",
        "      students_list[course] = []\r\n",
        "      for student_name, subjects in student_registrations.items():\r\n",
        "        if course in subjects:\r\n",
        "          students_list[course].append(student_name)\r\n",
        "\r\n",
        "  \r\n",
        "  for key1,value1 in paper_clashes.items():\r\n",
        "    for key2,value2 in paper_clashes.items():\r\n",
        "      if key1.day == key2.day: #Same day.\r\n",
        "        if key1.time != key2.time: #Different times.\r\n",
        "          if key1.day not in daysChecked:\r\n",
        "            daysChecked.append(key1.day)\r\n",
        "            for i in range(len(value1)):\r\n",
        "              list1 = students_list[value1[i]]\r\n",
        "              for j in range(len(value2)):\r\n",
        "                list2 = students_list[value2[j]]\r\n",
        "                if len(intersection(list1,list2)) > 0:\r\n",
        "                  # print(\"Consecutive clashes between\", value1[i], \" and \", value2[j], \" are: \", len(intersection(list1,list2)))\r\n",
        "                  numClashes = numClashes + len(intersection(list1,list2))\r\n",
        "                # print(\"Consecutive Clashes of \", value1[i], \" and \" , value2[j], \" : \", intersection(list1,list2))\r\n",
        "  # print(\"Total consecutive clashes found of : \", numClashes , \" students.\")\r\n",
        "  return numClashes\r\n",
        "#Testing function.\r\n",
        "calculateConsecutivePaperClashes(test_paper_clashes,student_registrations)"
      ],
      "outputs": [],
      "metadata": {
        "colab": {
          "base_uri": "https://localhost:8080/"
        },
        "id": "EripGbuk_dy_",
        "outputId": "6eb7300d-71f7-4bdf-936a-55e745a08c7a"
      }
    },
    {
      "cell_type": "markdown",
      "source": [
        "Finds the number of students who are appearing in both CS and Management courses, and have their CS course scheduled before their management course."
      ],
      "metadata": {
        "id": "R44ZZHh86YEb"
      }
    },
    {
      "cell_type": "code",
      "execution_count": null,
      "source": [
        "def calculateManagementCScourseClashes(paper_clashes,student_registrations):\r\n",
        "  numClashes = 0\r\n",
        "  students_list = dict()\r\n",
        "  sorted_paper_clashes = dict()\r\n",
        "  daysChecked = []\r\n",
        "  for key,value in paper_clashes.items():\r\n",
        "    for course in value:\r\n",
        "      students_list[course] = []\r\n",
        "      for student_name, subjects in student_registrations.items():\r\n",
        "        if course in subjects:\r\n",
        "          students_list[course].append(student_name)\r\n",
        "\r\n",
        "  for day in week:\r\n",
        "    for slot in slots:\r\n",
        "      for key,value in paper_clashes.items():\r\n",
        "        if key.day == day and key.time == slot:\r\n",
        "          sorted_paper_clashes[key] = value\r\n",
        "\r\n",
        "  # for key,value in sorted_paper_clashes.items():\r\n",
        "    # print(key.day,key.time,value)\r\n",
        "    \r\n",
        "  for key,value in sorted_paper_clashes.items():\r\n",
        "    for course in value:\r\n",
        "      if course[0] == 'C' and course[1] == 'S':#Choose a CS course.\r\n",
        "        csCourse = course\r\n",
        "        # print(\"Checking if any Management course after \", csCourse)\r\n",
        "        checkDays = False\r\n",
        "        for key2,value2 in sorted_paper_clashes.items():\r\n",
        "          if key == key2:\r\n",
        "            checkDays = True\r\n",
        "            continue\r\n",
        "          if checkDays == True:\r\n",
        "            for course2 in value2:\r\n",
        "              if course2[0] == 'M' and course2[1] =='G':#Found an MG course.\r\n",
        "                mgCourse = course2\r\n",
        "                list1 = students_list[csCourse]\r\n",
        "                list2 = students_list[mgCourse]\r\n",
        "                # print(\"Management course found! Checking courses \", csCourse , \" and \", mgCourse)\r\n",
        "                # print(print(\"Students taking both of these courses are : \", len(intersection(list1,list2))))\r\n",
        "                if len(intersection(list1,list2)) > 0:\r\n",
        "                  # print(\"CS Course \", csCourse , \" was scheduled before MG Course \", mgCourse, \" and \" , len(intersection(list1,list2)) ,\" clashes were found!!!!!\")\r\n",
        "                  numClashes += len(intersection(list1,list2))\r\n",
        "  return numClashes\r\n",
        "  \r\n",
        "calculateManagementCScourseClashes(test_paper_clashes,student_registrations)"
      ],
      "outputs": [],
      "metadata": {
        "id": "GOWrJMWPXXZJ",
        "colab": {
          "base_uri": "https://localhost:8080/"
        },
        "outputId": "1558c7ee-bcb8-4a96-e872-673aaf6637db"
      }
    },
    {
      "cell_type": "markdown",
      "source": [
        "Implements crossover between two parents and returns new child."
      ],
      "metadata": {
        "id": "WnDGPnLr6lRr"
      }
    },
    {
      "cell_type": "code",
      "execution_count": null,
      "source": [
        "def crossover(p_1, p_2):\r\n",
        "  child = []\r\n",
        "  random_1 = [*range(0,23,1)]\r\n",
        "  random_2 = [*range(0,23,1)]\r\n",
        "  for i in range(23):\r\n",
        "    index = random.choice(random_1)\r\n",
        "    random_1.remove(index)\r\n",
        "    index = index * 5\r\n",
        "    exam = p_1[index:index+5]\r\n",
        "    if exam[0] not in child:\r\n",
        "      child.extend(exam)\r\n",
        "\r\n",
        "    if len(child) == 115:\r\n",
        "      break\r\n",
        "    \r\n",
        "    index = random.choice(random_2)\r\n",
        "    random_2.remove(index)\r\n",
        "    index = index * 5\r\n",
        "    exam = p_2[index:index+5]\r\n",
        "    if exam[0] not in child:\r\n",
        "      child.extend(exam)\r\n",
        "\r\n",
        "  # assert(len(child)==115)\r\n",
        "  return child"
      ],
      "outputs": [],
      "metadata": {
        "id": "uD6ESX-1HzON"
      }
    },
    {
      "cell_type": "markdown",
      "source": [
        "Implements mutation on child with a probability, and returns newly mutated child."
      ],
      "metadata": {
        "id": "eslfsLFl6qT1"
      }
    },
    {
      "cell_type": "code",
      "execution_count": null,
      "source": [
        "def mutation(child, teachers, courses, slots, week, classrooms):\r\n",
        "  mychild = copy.deepcopy(child)\r\n",
        "  prob = [*range(0,101,1)]\r\n",
        "  for count, val in enumerate(child):\r\n",
        "    chance = random.choice(prob)\r\n",
        "    if chance <= 4:\r\n",
        "      n = count%5\r\n",
        "      if n == 0:\r\n",
        "        continue\r\n",
        "      elif n == 1:\r\n",
        "        teacher = random.choice(teachers)\r\n",
        "        mychild[count] = teacher.teacher_name\r\n",
        "      elif n == 2:\r\n",
        "        day = random.choice(week)\r\n",
        "        mychild[count] = day\r\n",
        "      elif n == 3:\r\n",
        "        slot = random.choice(slots)\r\n",
        "        mychild[count] = slot\r\n",
        "      elif n == 4:\r\n",
        "        room = random.choice(classrooms)\r\n",
        "        mychild[count] = room\r\n",
        "  return mychild\r\n"
      ],
      "outputs": [],
      "metadata": {
        "id": "soy-vRvIH5Zs"
      }
    },
    {
      "cell_type": "markdown",
      "source": [
        "Finds fitness of a timetable depending on hard and soft constraints."
      ],
      "metadata": {
        "id": "dT2o9Snc7pB6"
      }
    },
    {
      "cell_type": "code",
      "execution_count": null,
      "source": [
        "def calculateFitness(timetable):\r\n",
        "  fitness = 0\r\n",
        "\r\n",
        "  paper_clashes = dict()\r\n",
        "  teacher_clashes = dict()\r\n",
        "  classroom_clashes = dict()\r\n",
        "  paper_clashes = getPaperClashes(timetable)\r\n",
        "  teacher_clashes = getTeacherClashes(timetable)\r\n",
        "  classroom_clashes = getClassroomClashes(timetable)\r\n",
        "\r\n",
        "  studentsClashes = 0\r\n",
        "  teachersClashes = 0\r\n",
        "  consecutiveTeachersClashes = 0\r\n",
        "  roomClashes = 0\r\n",
        "  studentsClashes = calculateClashes(paper_clashes,student_registrations)\r\n",
        "  teachersClashes = calculateTeacherClashes(teacher_clashes)\r\n",
        "  consecutiveTeachersClashes = getConsecutiveTeacherClashes(teacher_clashes)\r\n",
        "  roomClashes = calculateClassroomClashes(classroom_clashes)\r\n",
        "\r\n",
        "   \r\n",
        "  softClashes = calculateConsecutivePaperClashes(paper_clashes,student_registrations) + calculateManagementCScourseClashes(paper_clashes,student_registrations)\r\n",
        "  hardClashes = studentsClashes + teachersClashes + consecutiveTeachersClashes + roomClashes\r\n",
        "  clashes = hardClashes  + (softClashes / 10)\r\n",
        "  if clashes == 0.0:\r\n",
        "    print(\"All constraints (soft + hard) met!\")\r\n",
        "    fitness = 10000000\r\n",
        "    return fitness\r\n",
        "  if hardClashes == 0:\r\n",
        "    print(\"All hard constraints met! Returning timetable...\")\r\n",
        "    print(\"Remaining soft clashes : \", softClashes)\r\n",
        "    fitness = 10000000\r\n",
        "    return fitness \r\n",
        "  fitness = (1000 / (clashes*clashes)) \r\n",
        "  return fitness\r\n",
        "\r\n",
        "def getParentByRelativeFitness(matingPool):\r\n",
        "  return random.choices(list(matingPool.keys()),weights=list(matingPool.values()),k=2)\r\n"
      ],
      "outputs": [],
      "metadata": {
        "id": "G0uSm72JYbIj"
      }
    },
    {
      "cell_type": "markdown",
      "source": [
        "Genetic Algorithm implementation."
      ],
      "metadata": {
        "id": "GKdSFWz_7xVo"
      }
    },
    {
      "cell_type": "code",
      "execution_count": null,
      "source": [
        "population = []\r\n",
        "def geneticAlgorithm(population):\r\n",
        "  #Initialization.\r\n",
        "  populationSize = 100\r\n",
        "  population = generatePopulation(courses,teachers,populationSize)\r\n",
        "  iteration = 0\r\n",
        "  #Start of Algorithm.\r\n",
        "  while True:\r\n",
        "    #Evaluating fitness of each element of population.\r\n",
        "    matingPool = dict()\r\n",
        "    for timetable in population:\r\n",
        "      fitness = calculateFitness(timetable)\r\n",
        "      if (fitness == 10000000):\r\n",
        "        # print(\"Fitness == \",fitness)\r\n",
        "        return timetable\r\n",
        "      matingPool[tuple(timetable)] = fitness\r\n",
        "    print(\"Iteration \",iteration, \": [\", end=\" \")\r\n",
        "    sortedPool = {k: v for k,v in sorted(matingPool.items(),key=lambda item: item[1],reverse=True)}\r\n",
        "    for key,value in sortedPool.items():\r\n",
        "      print(value, end=\", \")\r\n",
        "    print(\" ]\", end= \" \")\r\n",
        "    print()\r\n",
        "    iteration = iteration + 1\r\n",
        "    #Reproduction phase.\r\n",
        "    newPopulation = []\r\n",
        "    for i in range(populationSize):\r\n",
        "      #Selecting two parents based on relative fitness.\r\n",
        "      parents = getParentByRelativeFitness(matingPool)\r\n",
        "      crossoverChild = crossover(list(parents[0]),list(parents[1]))\r\n",
        "      mutatedChild = mutation(crossoverChild, teachers, courses, slots, week, classrooms)\r\n",
        "      newPopulation.append(mutatedChild)\r\n",
        "    population = newPopulation\r\n",
        "idealTimetable = geneticAlgorithm(population)\r\n"
      ],
      "outputs": [],
      "metadata": {
        "colab": {
          "base_uri": "https://localhost:8080/"
        },
        "id": "D_Uw28pfrrvs",
        "outputId": "a17dfca8-6d53-460a-e8f6-f634dc57881a"
      }
    },
    {
      "cell_type": "code",
      "execution_count": null,
      "source": [
        "def printSolution(timetable):\r\n",
        "  fitness = 0\r\n",
        "\r\n",
        "  paper_clashes = dict()\r\n",
        "  teacher_clashes = dict()\r\n",
        "  classroom_clashes = dict()\r\n",
        "  paper_clashes = getPaperClashes(timetable)\r\n",
        "  teacher_clashes = getTeacherClashes(timetable)\r\n",
        "  classroom_clashes = getClassroomClashes(timetable)\r\n",
        "\r\n",
        "  studentsClashes = 0\r\n",
        "  teachersClashes = 0\r\n",
        "  consecutiveTeachersClashes = 0\r\n",
        "  roomClashes = 0\r\n",
        "  studentsClashes = calculateClashes(paper_clashes,student_registrations)\r\n",
        "  teachersClashes = calculateTeacherClashes(teacher_clashes)\r\n",
        "  consecutiveTeachersClashes = getConsecutiveTeacherClashes(teacher_clashes)\r\n",
        "  roomClashes = calculateClassroomClashes(classroom_clashes)\r\n",
        "\r\n",
        "    \r\n",
        "  softClashes = calculateConsecutivePaperClashes(paper_clashes,student_registrations) + calculateManagementCScourseClashes(paper_clashes,student_registrations)\r\n",
        "  hardClashes = studentsClashes + teachersClashes + consecutiveTeachersClashes + roomClashes\r\n",
        "  clashes = hardClashes  + (softClashes / 10)\r\n",
        "  print(\"Hard Constraints Satisfied :\")\r\n",
        "  print(\"->Exam scheduled for each course and each student is enrolled in at least 3 courses.\")\r\n",
        "  if studentsClashes == 0:\r\n",
        "    print(\"->All students clashes resolved.\")\r\n",
        "  if teachersClashes == 0:\r\n",
        "    print(\"->All teachers clashes resolved.\")\r\n",
        "  if consecutiveTeachersClashes == 0:\r\n",
        "    print(\"->No teacher invigilates consecutive papers.\")\r\n",
        "  print(\"->All papers held between 9am and 5pm. Each exam is invigilated by a teacher. Exam is not held on weekend.\")\r\n",
        "\r\n",
        "  print()\r\n",
        "  print(\"Following soft constraints have been optimized as much as possible:\")\r\n",
        "  if calculateConsecutivePaperClashes(paper_clashes,student_registrations) == 0:\r\n",
        "    print(\"->No consecutive papers scheduled for any student.\")\r\n",
        "  else:\r\n",
        "    print(\"->Student appearing in more than 1 exam consecutively.\")\r\n",
        "  if calculateManagementCScourseClashes(paper_clashes,student_registrations) == 0:\r\n",
        "    print(\"->No management course is scheduled before CS course for a student who takes both.\")\r\n",
        "  else:\r\n",
        "    print(\"->Management course is scheduled before CS course for a student who is enrolled in both.\")\r\n",
        "\r\n",
        "printSolution(idealTimetable)"
      ],
      "outputs": [],
      "metadata": {
        "colab": {
          "base_uri": "https://localhost:8080/"
        },
        "id": "GuHfg9zhjjXY",
        "outputId": "d92ebb4e-2180-44b3-8ab7-23f4e69b2fea"
      }
    },
    {
      "cell_type": "code",
      "execution_count": null,
      "source": [
        "courses_assigned = []\r\n",
        "teachers_assigned = []\r\n",
        "days_assigned = []\r\n",
        "time_slots_assigned = []\r\n",
        "rooms_assigned = []\r\n",
        "index = 0 \r\n",
        "for data in idealTimetable:\r\n",
        "  if index == 0: #Course Code.\r\n",
        "    courses_assigned.append(data)\r\n",
        "  elif index == 1: #Teacher Name.\r\n",
        "    teachers_assigned.append(data)\r\n",
        "  elif index == 2: #Day.\r\n",
        "    days_assigned.append(data)\r\n",
        "  elif index == 3: #Time slot.\r\n",
        "    time_slots_assigned.append(data)\r\n",
        "  elif index == 4: #Room.\r\n",
        "    rooms_assigned.append(data)\r\n",
        "    index = 0\r\n",
        "    continue\r\n",
        "  index = index + 1\r\n",
        "schedule = {'Course': courses_assigned,\r\n",
        "            'Teacher': teachers_assigned,\r\n",
        "            'Day': days_assigned,\r\n",
        "            'Time-Slot': time_slots_assigned,\r\n",
        "            'Venue':rooms_assigned,\r\n",
        "            }\r\n",
        "solution = pd.DataFrame(schedule)\r\n",
        "print(solution)"
      ],
      "outputs": [],
      "metadata": {
        "colab": {
          "base_uri": "https://localhost:8080/"
        },
        "id": "sSPfIWLRnucP",
        "outputId": "8ba6ac65-151f-4a9d-dc6c-c80b854ea556"
      }
    }
  ]
}